{
 "cells": [
  {
   "cell_type": "code",
   "execution_count": null,
   "metadata": {},
   "outputs": [],
   "source": [
    "# importar bibliotecas\n",
    "import pandas as pd\n",
    "import numpy as np\n",
    "from sklearn import preprocessing\n",
    "\n",
    "# definir o nome das colunas\n",
    "names = ['age', 'workclass', 'fnlwgt', 'education', 'education-num',\n",
    "         'marital-status', 'occupation', 'relationship', 'race', 'sex',\n",
    "        'capital-gain', 'capital-loss', 'hours-per-week','native-country',\n",
    "        'class']\n",
    "\n",
    "# importar a base e colocar os nomes das colunas\n",
    "df = pd.read_csv('./adult.data.csv', header=None, names=names)"
   ]
  },
  {
   "cell_type": "code",
   "execution_count": null,
   "metadata": {},
   "outputs": [],
   "source": [
    "# excluir as colunas que não serão utilizadas no modelo\n",
    "df = df.drop(['fnlwgt','education-num'], axis=1)\n",
    "\n",
    "# exlcuir as linhas que não possuem valor em alguma feature\n",
    "df.dropna(inplace=True)\n",
    "\n",
    "# transformar features não-numericas em features numéricas.\n",
    "non_numerical = ['workclass', 'education', 'marital-status', 'occupation',\n",
    "'relationship', 'race', 'sex', 'native-country']\n",
    "le = preprocessing.LabelEncoder()\n",
    "for x in non_numerical:\n",
    "    le.fit(df[x])\n",
    "    df[x] = le.transform(df[x].astype(str))"
   ]
  },
  {
   "cell_type": "code",
   "execution_count": null,
   "metadata": {},
   "outputs": [],
   "source": [
    "# criar uma matriz X e o vetor y\n",
    "X = np.array(df.iloc[:, 0:12]) \t# features\n",
    "y = np.array(df['class']) \t    # classes"
   ]
  },
  {
   "cell_type": "code",
   "execution_count": null,
   "metadata": {},
   "outputs": [],
   "source": [
    "# criação de intervalo de números ímpares de K para KNN\n",
    "neighbors = list(range(1,50,2))\n",
    "\n",
    "\n",
    "# criação de intervalo de f para k-fold\n",
    "cv_list = list(range(10,40))\n",
    "\n",
    "\n",
    "# criação da estrutura de listas para armazenar valores\n",
    "k_list = []\n",
    "fold_list = []\n",
    "cv_scores = []"
   ]
  },
  {
   "cell_type": "code",
   "execution_count": null,
   "metadata": {},
   "outputs": [],
   "source": [
    "# importar bibliotecas\n",
    "from sklearn.neighbors import KNeighborsClassifier\n",
    "from sklearn.model_selection import cross_val_score\n",
    "from sklearn import preprocessing\n",
    "\n",
    "# executar KNN e k-fold cross validation\n",
    "for k in neighbors:\n",
    "  for f in cv_list:\n",
    "      knn = KNeighborsClassifier(n_neighbors=k)\n",
    "      scores = cross_val_score(knn, X, y, cv=f, scoring='accuracy')\n",
    "      cv_scores.append(scores.mean())  #popular listas\n",
    "      k_list.append(k)\n",
    "      fold_list.append(f)"
   ]
  },
  {
   "cell_type": "code",
   "execution_count": null,
   "metadata": {},
   "outputs": [],
   "source": []
  }
 ],
 "metadata": {
  "kernelspec": {
   "display_name": "Python 3",
   "language": "python",
   "name": "python3"
  },
  "language_info": {
   "codemirror_mode": {
    "name": "ipython",
    "version": 3
   },
   "file_extension": ".py",
   "mimetype": "text/x-python",
   "name": "python",
   "nbconvert_exporter": "python",
   "pygments_lexer": "ipython3",
   "version": "3.11.4"
  },
  "orig_nbformat": 4
 },
 "nbformat": 4,
 "nbformat_minor": 2
}
