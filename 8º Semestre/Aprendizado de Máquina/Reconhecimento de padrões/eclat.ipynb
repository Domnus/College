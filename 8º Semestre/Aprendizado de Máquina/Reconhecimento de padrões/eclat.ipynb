{
 "cells": [
  {
   "cell_type": "code",
   "execution_count": 8,
   "metadata": {},
   "outputs": [],
   "source": [
    "transactions = [\n",
    "    ['beer', 'wine', 'cheese'],\n",
    "    ['beer', 'potato chips'],\n",
    "    ['eggs', 'flower', 'butter', 'cheese'],\n",
    "    ['eggs', 'flower', 'butter', 'beer', 'potato chips'],\n",
    "    ['wine', 'cheese'],\n",
    "    ['potato chips'],\n",
    "    ['eggs', 'flower', 'butter', 'wine', 'cheese'],\n",
    "    ['eggs', 'flower', 'butter', 'beer', 'potato chips'],\n",
    "    ['wine', 'beer'],\n",
    "    ['beer', 'potato chips'],\n",
    "    ['butter', 'eggs'],\n",
    "    ['beer', 'potato chips'],\n",
    "    ['flower', 'eggs'],\n",
    "    ['beer', 'potato chips'],\n",
    "    ['eggs', 'flower', 'butter', 'wine', 'cheese'],\n",
    "    ['beer', 'wine', 'potato chips', 'cheese'],\n",
    "    ['wine', 'cheese'],\n",
    "    ['beer', 'potato chips'],\n",
    "    ['wine', 'cheese'],\n",
    "    ['beer', 'potato chips']\n",
    "]"
   ]
  },
  {
   "cell_type": "code",
   "execution_count": 9,
   "metadata": {},
   "outputs": [
    {
     "data": {
      "text/html": [
       "<div>\n",
       "<style scoped>\n",
       "    .dataframe tbody tr th:only-of-type {\n",
       "        vertical-align: middle;\n",
       "    }\n",
       "\n",
       "    .dataframe tbody tr th {\n",
       "        vertical-align: top;\n",
       "    }\n",
       "\n",
       "    .dataframe thead th {\n",
       "        text-align: right;\n",
       "    }\n",
       "</style>\n",
       "<table border=\"1\" class=\"dataframe\">\n",
       "  <thead>\n",
       "    <tr style=\"text-align: right;\">\n",
       "      <th></th>\n",
       "      <th>0</th>\n",
       "      <th>1</th>\n",
       "      <th>2</th>\n",
       "      <th>3</th>\n",
       "      <th>4</th>\n",
       "    </tr>\n",
       "  </thead>\n",
       "  <tbody>\n",
       "    <tr>\n",
       "      <th>0</th>\n",
       "      <td>beer</td>\n",
       "      <td>wine</td>\n",
       "      <td>cheese</td>\n",
       "      <td>None</td>\n",
       "      <td>None</td>\n",
       "    </tr>\n",
       "    <tr>\n",
       "      <th>1</th>\n",
       "      <td>beer</td>\n",
       "      <td>potato chips</td>\n",
       "      <td>None</td>\n",
       "      <td>None</td>\n",
       "      <td>None</td>\n",
       "    </tr>\n",
       "    <tr>\n",
       "      <th>2</th>\n",
       "      <td>eggs</td>\n",
       "      <td>flower</td>\n",
       "      <td>butter</td>\n",
       "      <td>cheese</td>\n",
       "      <td>None</td>\n",
       "    </tr>\n",
       "    <tr>\n",
       "      <th>3</th>\n",
       "      <td>eggs</td>\n",
       "      <td>flower</td>\n",
       "      <td>butter</td>\n",
       "      <td>beer</td>\n",
       "      <td>potato chips</td>\n",
       "    </tr>\n",
       "    <tr>\n",
       "      <th>4</th>\n",
       "      <td>wine</td>\n",
       "      <td>cheese</td>\n",
       "      <td>None</td>\n",
       "      <td>None</td>\n",
       "      <td>None</td>\n",
       "    </tr>\n",
       "    <tr>\n",
       "      <th>5</th>\n",
       "      <td>potato chips</td>\n",
       "      <td>None</td>\n",
       "      <td>None</td>\n",
       "      <td>None</td>\n",
       "      <td>None</td>\n",
       "    </tr>\n",
       "    <tr>\n",
       "      <th>6</th>\n",
       "      <td>eggs</td>\n",
       "      <td>flower</td>\n",
       "      <td>butter</td>\n",
       "      <td>wine</td>\n",
       "      <td>cheese</td>\n",
       "    </tr>\n",
       "    <tr>\n",
       "      <th>7</th>\n",
       "      <td>eggs</td>\n",
       "      <td>flower</td>\n",
       "      <td>butter</td>\n",
       "      <td>beer</td>\n",
       "      <td>potato chips</td>\n",
       "    </tr>\n",
       "    <tr>\n",
       "      <th>8</th>\n",
       "      <td>wine</td>\n",
       "      <td>beer</td>\n",
       "      <td>None</td>\n",
       "      <td>None</td>\n",
       "      <td>None</td>\n",
       "    </tr>\n",
       "    <tr>\n",
       "      <th>9</th>\n",
       "      <td>beer</td>\n",
       "      <td>potato chips</td>\n",
       "      <td>None</td>\n",
       "      <td>None</td>\n",
       "      <td>None</td>\n",
       "    </tr>\n",
       "    <tr>\n",
       "      <th>10</th>\n",
       "      <td>butter</td>\n",
       "      <td>eggs</td>\n",
       "      <td>None</td>\n",
       "      <td>None</td>\n",
       "      <td>None</td>\n",
       "    </tr>\n",
       "    <tr>\n",
       "      <th>11</th>\n",
       "      <td>beer</td>\n",
       "      <td>potato chips</td>\n",
       "      <td>None</td>\n",
       "      <td>None</td>\n",
       "      <td>None</td>\n",
       "    </tr>\n",
       "    <tr>\n",
       "      <th>12</th>\n",
       "      <td>flower</td>\n",
       "      <td>eggs</td>\n",
       "      <td>None</td>\n",
       "      <td>None</td>\n",
       "      <td>None</td>\n",
       "    </tr>\n",
       "    <tr>\n",
       "      <th>13</th>\n",
       "      <td>beer</td>\n",
       "      <td>potato chips</td>\n",
       "      <td>None</td>\n",
       "      <td>None</td>\n",
       "      <td>None</td>\n",
       "    </tr>\n",
       "    <tr>\n",
       "      <th>14</th>\n",
       "      <td>eggs</td>\n",
       "      <td>flower</td>\n",
       "      <td>butter</td>\n",
       "      <td>wine</td>\n",
       "      <td>cheese</td>\n",
       "    </tr>\n",
       "    <tr>\n",
       "      <th>15</th>\n",
       "      <td>beer</td>\n",
       "      <td>wine</td>\n",
       "      <td>potato chips</td>\n",
       "      <td>cheese</td>\n",
       "      <td>None</td>\n",
       "    </tr>\n",
       "    <tr>\n",
       "      <th>16</th>\n",
       "      <td>wine</td>\n",
       "      <td>cheese</td>\n",
       "      <td>None</td>\n",
       "      <td>None</td>\n",
       "      <td>None</td>\n",
       "    </tr>\n",
       "    <tr>\n",
       "      <th>17</th>\n",
       "      <td>beer</td>\n",
       "      <td>potato chips</td>\n",
       "      <td>None</td>\n",
       "      <td>None</td>\n",
       "      <td>None</td>\n",
       "    </tr>\n",
       "    <tr>\n",
       "      <th>18</th>\n",
       "      <td>wine</td>\n",
       "      <td>cheese</td>\n",
       "      <td>None</td>\n",
       "      <td>None</td>\n",
       "      <td>None</td>\n",
       "    </tr>\n",
       "    <tr>\n",
       "      <th>19</th>\n",
       "      <td>beer</td>\n",
       "      <td>potato chips</td>\n",
       "      <td>None</td>\n",
       "      <td>None</td>\n",
       "      <td>None</td>\n",
       "    </tr>\n",
       "  </tbody>\n",
       "</table>\n",
       "</div>"
      ],
      "text/plain": [
       "               0             1             2       3             4\n",
       "0           beer          wine        cheese    None          None\n",
       "1           beer  potato chips          None    None          None\n",
       "2           eggs        flower        butter  cheese          None\n",
       "3           eggs        flower        butter    beer  potato chips\n",
       "4           wine        cheese          None    None          None\n",
       "5   potato chips          None          None    None          None\n",
       "6           eggs        flower        butter    wine        cheese\n",
       "7           eggs        flower        butter    beer  potato chips\n",
       "8           wine          beer          None    None          None\n",
       "9           beer  potato chips          None    None          None\n",
       "10        butter          eggs          None    None          None\n",
       "11          beer  potato chips          None    None          None\n",
       "12        flower          eggs          None    None          None\n",
       "13          beer  potato chips          None    None          None\n",
       "14          eggs        flower        butter    wine        cheese\n",
       "15          beer          wine  potato chips  cheese          None\n",
       "16          wine        cheese          None    None          None\n",
       "17          beer  potato chips          None    None          None\n",
       "18          wine        cheese          None    None          None\n",
       "19          beer  potato chips          None    None          None"
      ]
     },
     "execution_count": 9,
     "metadata": {},
     "output_type": "execute_result"
    }
   ],
   "source": [
    "import pandas as pd\n",
    "\n",
    "data = pd.DataFrame(transactions)\n",
    "data"
   ]
  },
  {
   "cell_type": "code",
   "execution_count": 10,
   "metadata": {},
   "outputs": [],
   "source": [
    "min_n_products = 2\n",
    "\n",
    "min_support = 7/len(transactions)\n",
    "\n",
    "max_length = max([len(x) for x in transactions])"
   ]
  },
  {
   "cell_type": "code",
   "execution_count": 11,
   "metadata": {},
   "outputs": [
    {
     "name": "stderr",
     "output_type": "stream",
     "text": [
      "100%|██████████| 8/8 [00:00<00:00, 570.45it/s]\n",
      "100%|██████████| 8/8 [00:00<00:00, 82241.25it/s]\n",
      "100%|██████████| 8/8 [00:00<00:00, 3029.20it/s]\n"
     ]
    },
    {
     "name": "stdout",
     "output_type": "stream",
     "text": [
      "Combination 2 by 2\n"
     ]
    },
    {
     "name": "stderr",
     "output_type": "stream",
     "text": [
      "10it [00:00, 247.99it/s]\n"
     ]
    },
    {
     "name": "stdout",
     "output_type": "stream",
     "text": [
      "Combination 3 by 3\n"
     ]
    },
    {
     "name": "stderr",
     "output_type": "stream",
     "text": [
      "10it [00:00, 289.60it/s]\n"
     ]
    },
    {
     "name": "stdout",
     "output_type": "stream",
     "text": [
      "Combination 4 by 4\n"
     ]
    },
    {
     "name": "stderr",
     "output_type": "stream",
     "text": [
      "5it [00:00, 157.82it/s]\n"
     ]
    },
    {
     "name": "stdout",
     "output_type": "stream",
     "text": [
      "Combination 5 by 5\n"
     ]
    },
    {
     "name": "stderr",
     "output_type": "stream",
     "text": [
      "1it [00:00, 235.46it/s]\n"
     ]
    }
   ],
   "source": [
    "from pyECLAT import ECLAT\n",
    "\n",
    "my_eclat = ECLAT(data, verbose=True)\n",
    "rule_indices, rule_supports = my_eclat.fit(min_support=min_support, \n",
    "                                           min_combination=min_n_products, \n",
    "                                           max_combination=max_length)"
   ]
  },
  {
   "cell_type": "code",
   "execution_count": 12,
   "metadata": {},
   "outputs": [
    {
     "name": "stdout",
     "output_type": "stream",
     "text": [
      "{'potato chips & beer': 0.45, 'cheese & wine': 0.35}\n"
     ]
    }
   ],
   "source": [
    "print(rule_supports)"
   ]
  },
  {
   "cell_type": "code",
   "execution_count": null,
   "metadata": {},
   "outputs": [],
   "source": []
  }
 ],
 "metadata": {
  "kernelspec": {
   "display_name": "Python 3",
   "language": "python",
   "name": "python3"
  },
  "language_info": {
   "codemirror_mode": {
    "name": "ipython",
    "version": 3
   },
   "file_extension": ".py",
   "mimetype": "text/x-python",
   "name": "python",
   "nbconvert_exporter": "python",
   "pygments_lexer": "ipython3",
   "version": "3.11.5"
  },
  "orig_nbformat": 4
 },
 "nbformat": 4,
 "nbformat_minor": 2
}
